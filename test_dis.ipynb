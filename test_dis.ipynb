{
 "cells": [
  {
   "cell_type": "code",
   "execution_count": 2,
   "id": "e8b3d54e",
   "metadata": {},
   "outputs": [],
   "source": [
    "import pandas as pd\n",
    "import numpy as np\n",
    "import xgboost as xgb\n",
    "from tqdm import tqdm\n",
    "from sklearn.svm import SVC\n",
    "from keras.models import Sequential\n",
    "from keras.layers.recurrent import LSTM, GRU\n",
    "from keras.layers.core import Dense, Activation, Dropout\n",
    "from keras.layers.embeddings import Embedding\n",
    "from tensorflow.keras.layers import BatchNormalization\n",
    "from keras.utils import np_utils\n",
    "from sklearn import preprocessing, decomposition, model_selection, metrics, pipeline\n",
    "from sklearn.model_selection import GridSearchCV\n",
    "from sklearn.feature_extraction.text import TfidfVectorizer, CountVectorizer\n",
    "from sklearn.decomposition import TruncatedSVD\n",
    "from sklearn.linear_model import LogisticRegression\n",
    "from sklearn.model_selection import train_test_split\n",
    "from sklearn.metrics import classification_report\n",
    "from sklearn.naive_bayes import MultinomialNB\n",
    "from keras.layers import GlobalMaxPooling1D, Conv1D, MaxPooling1D, Flatten, Bidirectional, SpatialDropout1D\n",
    "from keras.preprocessing import sequence, text\n",
    "from keras.callbacks import EarlyStopping\n",
    "from nltk import word_tokenize\n",
    "import joblib\n",
    "import os"
   ]
  },
  {
   "cell_type": "markdown",
   "id": "c4dc1b90",
   "metadata": {},
   "source": [
    "### 想辦法寫出文章轉成數字的方法 然後 寫成函式\n",
    "### 找出讓分數更好一點的機器學習\n",
    "### 自動化"
   ]
  },
  {
   "cell_type": "code",
   "execution_count": 79,
   "id": "e7b020f6",
   "metadata": {},
   "outputs": [
    {
     "name": "stdout",
     "output_type": "stream",
     "text": [
      "943\n"
     ]
    },
    {
     "name": "stderr",
     "output_type": "stream",
     "text": [
      "C:\\Users\\沈睿朋\\AppData\\Local\\Temp/ipykernel_20140/2329507347.py:28: SettingWithCopyWarning: \n",
      "A value is trying to be set on a copy of a slice from a DataFrame\n",
      "\n",
      "See the caveats in the documentation: https://pandas.pydata.org/pandas-docs/stable/user_guide/indexing.html#returning-a-view-versus-a-copy\n",
      "  data['lable'][d_num:] = 0\n"
     ]
    }
   ],
   "source": [
    "def input_file(name):\n",
    "    path = f\"C:/Users/沈睿朋/Desktop/貼標/{name}\" #資料夾目錄\n",
    "    files= os.listdir(path) #得到資料夾下的所有檔名稱\n",
    "    word = []\n",
    "    word_text = ''\n",
    "    for file in files: #遍歷資料夾\n",
    "        if not os.path.isdir(file): #判斷是否是資料夾，不是資料夾才開啟\n",
    "            f = open(path+\"/\"+file,encoding=('utf-8')); #開啟檔案\n",
    "            iter_f = iter(f); #建立迭代器\n",
    "        for i in iter_f:\n",
    "            line = i.splitlines()\n",
    "            if line == ['']:\n",
    "                word.append(word_text)\n",
    "                word_text = ''\n",
    "            elif line == ['[廣告]請繼續往下閱讀...']:\n",
    "                continue\n",
    "            elif line[0][0] == 'h' or line[0][0] == '▲' or line[0][0:2] == '記者' or line[0][0] == '▼':\n",
    "                continue\n",
    "            word_text+=i.rstrip()\n",
    "        word.append(word_text)\n",
    "    return word , len(word)\n",
    "\n",
    "\n",
    "domestic,d_num = input_file('國內')\n",
    "foreign,f_num = input_file('國外')\n",
    "data = pd.DataFrame(domestic+foreign,columns=['file'])\n",
    "data['lable']= 1\n",
    "data['lable'][d_num:] = 0 \n",
    "print(len(data))"
   ]
  },
  {
   "cell_type": "code",
   "execution_count": 80,
   "id": "834f79d6",
   "metadata": {},
   "outputs": [
    {
     "data": {
      "text/html": [
       "<div>\n",
       "<style scoped>\n",
       "    .dataframe tbody tr th:only-of-type {\n",
       "        vertical-align: middle;\n",
       "    }\n",
       "\n",
       "    .dataframe tbody tr th {\n",
       "        vertical-align: top;\n",
       "    }\n",
       "\n",
       "    .dataframe thead th {\n",
       "        text-align: right;\n",
       "    }\n",
       "</style>\n",
       "<table border=\"1\" class=\"dataframe\">\n",
       "  <thead>\n",
       "    <tr style=\"text-align: right;\">\n",
       "      <th></th>\n",
       "      <th>file</th>\n",
       "      <th>lable</th>\n",
       "      <th>file_Participle</th>\n",
       "    </tr>\n",
       "  </thead>\n",
       "  <tbody>\n",
       "    <tr>\n",
       "      <th>0</th>\n",
       "      <td>國人趁俄烏亂世逢低搶進！根據金管會最新統計，今（2022）年2月底，國內基金對俄曝險金額達2...</td>\n",
       "      <td>1</td>\n",
       "      <td>國人 趁 俄 烏亂 世逢 低 搶進 ！ 根據 金管會 最新 統計 ， 今 （ 2022 ） ...</td>\n",
       "    </tr>\n",
       "    <tr>\n",
       "      <th>1</th>\n",
       "      <td>美股週一漲跌互見，台股今 (1) 日開高走高，在鋼鐵、電動車概念股強漲帶領下，盤中漲近300...</td>\n",
       "      <td>1</td>\n",
       "      <td>美股 週一漲 跌 互見 ， 台股 今   ( 1 )   日開 高 走高 ， 在 鋼鐵 、 ...</td>\n",
       "    </tr>\n",
       "    <tr>\n",
       "      <th>2</th>\n",
       "      <td>美股週一漲跌互見，台股今 （1）日開高走高，在鋼鐵、電動車概念股強漲帶領下，盤中漲近300點...</td>\n",
       "      <td>1</td>\n",
       "      <td>美股 週一漲 跌 互見 ， 台股 今   （ 1 ） 日開 高 走高 ， 在 鋼鐵 、 電動...</td>\n",
       "    </tr>\n",
       "    <tr>\n",
       "      <th>3</th>\n",
       "      <td>鋼鐵龍頭中鋼（2002）2021年獲利創新高，比市場預期高出2％，而中鋼擁有逾百萬名股東，預...</td>\n",
       "      <td>1</td>\n",
       "      <td>鋼鐵龍頭 中鋼 （ 2002 ） 2021 年 獲利創 新高 ， 比市場 預期 高出 2 ％...</td>\n",
       "    </tr>\n",
       "    <tr>\n",
       "      <th>4</th>\n",
       "      <td>美股週一漲跌互見，台股今 (1) 日開高走高，在鋼鐵、電動車概念股強漲帶領下，盤中漲近300...</td>\n",
       "      <td>1</td>\n",
       "      <td>美股 週一漲 跌 互見 ， 台股 今   ( 1 )   日開 高 走高 ， 在 鋼鐵 、 ...</td>\n",
       "    </tr>\n",
       "  </tbody>\n",
       "</table>\n",
       "</div>"
      ],
      "text/plain": [
       "                                                file  lable  \\\n",
       "0  國人趁俄烏亂世逢低搶進！根據金管會最新統計，今（2022）年2月底，國內基金對俄曝險金額達2...      1   \n",
       "1  美股週一漲跌互見，台股今 (1) 日開高走高，在鋼鐵、電動車概念股強漲帶領下，盤中漲近300...      1   \n",
       "2  美股週一漲跌互見，台股今 （1）日開高走高，在鋼鐵、電動車概念股強漲帶領下，盤中漲近300點...      1   \n",
       "3  鋼鐵龍頭中鋼（2002）2021年獲利創新高，比市場預期高出2％，而中鋼擁有逾百萬名股東，預...      1   \n",
       "4  美股週一漲跌互見，台股今 (1) 日開高走高，在鋼鐵、電動車概念股強漲帶領下，盤中漲近300...      1   \n",
       "\n",
       "                                     file_Participle  \n",
       "0  國人 趁 俄 烏亂 世逢 低 搶進 ！ 根據 金管會 最新 統計 ， 今 （ 2022 ） ...  \n",
       "1  美股 週一漲 跌 互見 ， 台股 今   ( 1 )   日開 高 走高 ， 在 鋼鐵 、 ...  \n",
       "2  美股 週一漲 跌 互見 ， 台股 今   （ 1 ） 日開 高 走高 ， 在 鋼鐵 、 電動...  \n",
       "3  鋼鐵龍頭 中鋼 （ 2002 ） 2021 年 獲利創 新高 ， 比市場 預期 高出 2 ％...  \n",
       "4  美股 週一漲 跌 互見 ， 台股 今   ( 1 )   日開 高 走高 ， 在 鋼鐵 、 ...  "
      ]
     },
     "execution_count": 80,
     "metadata": {},
     "output_type": "execute_result"
    }
   ],
   "source": [
    "import jieba\n",
    "from jieba import enable_parallel\n",
    "# jieba.enable_parallel() #并行分词开启\n",
    "data['file_Participle'] = data['file'].apply(lambda i:jieba.cut(i) )\n",
    "data['file_Participle'] =[' '.join(i) for i in data['file_Participle']]\n",
    "data.head()"
   ]
  },
  {
   "cell_type": "code",
   "execution_count": 81,
   "id": "eb53a31b",
   "metadata": {},
   "outputs": [
    {
     "name": "stdout",
     "output_type": "stream",
     "text": [
      "(848,)\n",
      "(95,)\n"
     ]
    }
   ],
   "source": [
    "y = data['lable']\n",
    "xtrain, xvalid, ytrain, yvalid = train_test_split(data.file_Participle.values, y, \n",
    "                                                  stratify=y, \n",
    "                                                  random_state=42, \n",
    "                                                  test_size=0.1, shuffle=True)\n",
    "print (xtrain.shape)\n",
    "print (xvalid.shape)"
   ]
  },
  {
   "cell_type": "code",
   "execution_count": 82,
   "id": "1f0c3fea",
   "metadata": {},
   "outputs": [
    {
     "name": "stderr",
     "output_type": "stream",
     "text": [
      "C:\\ProgramData\\Anaconda3\\lib\\site-packages\\sklearn\\feature_extraction\\text.py:388: UserWarning: Your stop_words may be inconsistent with your preprocessing. Tokenizing the stop words generated tokens ['fed', 'jp', 'max', 'qe', 'vtfet'] not in stop_words.\n",
      "  warnings.warn('Your stop_words may be inconsistent with '\n",
      "C:\\ProgramData\\Anaconda3\\lib\\site-packages\\xgboost\\sklearn.py:1224: UserWarning: The use of label encoder in XGBClassifier is deprecated and will be removed in a future release. To remove this warning, do the following: 1) Pass option use_label_encoder=False when constructing XGBClassifier object; and 2) Encode your labels (y) as integers starting with 0, i.e. 0, 1, 2, ..., [num_class - 1].\n",
      "  warnings.warn(label_encoder_deprecation_msg, UserWarning)\n"
     ]
    },
    {
     "name": "stdout",
     "output_type": "stream",
     "text": [
      "logloss: 0.324 \n"
     ]
    }
   ],
   "source": [
    "# 利用刚才创建的NumberNormalizingVectorizer类来提取文本特征，注意里面各类参数的含义，自己去sklearn官方网站找教程看\n",
    "\n",
    "stwlist=[line.strip() for line in open('C:/Users/沈睿朋/Desktop/貼標/stopwords0.txt',\n",
    "'r',encoding='utf-8').readlines()]\n",
    "\n",
    "ctv = CountVectorizer(min_df=3,\n",
    "                      max_df=0.5,\n",
    "                      ngram_range=(1,2),\n",
    "                      stop_words = stwlist)\n",
    "\n",
    "# 使用詞彙計數（Word Counts）作為功能，而不是使用TF-IDF。這可以使用scikit-learn中的CountVectorizer輕鬆完成。\n",
    "ctv.fit(list(xtrain) + list(xvalid))\n",
    "xtrain_ctv =  ctv.transform(xtrain) \n",
    "xvalid_ctv = ctv.transform(xvalid)\n",
    "\n",
    "# 基于tf-idf特征，使用xgboost\n",
    "# clf = xgb.XGBClassifier(max_depth=7, n_estimators=200, colsample_bytree=0.8, \n",
    "#                         subsample=0.8, nthread=10, learning_rate=0.1,eval_metric='mlogloss')\n",
    "# clf.fit(xtrain_tfv.tocsc(), ytrain)\n",
    "# predictions = clf.predict_proba(xvalid_tfv.tocsc())\n",
    "\n",
    "# print (\"logloss: %0.3f \" % multiclass_logloss(yvalid, predictions))\n",
    "\n",
    "# 基于word counts特征，使用xgboost\n",
    "clf = xgb.XGBClassifier(max_depth=7, n_estimators=200, colsample_bytree=0.8, \n",
    "                        subsample=0.8, nthread=10, learning_rate=0.1,eval_metric='mlogloss')\n",
    "clf.fit(xtrain_ctv.tocsc(), ytrain)\n",
    "predictions = clf.predict_proba(xvalid_ctv.tocsc())\n",
    "\n",
    "print (\"logloss: %0.3f \" % multiclass_logloss(yvalid, predictions))\n"
   ]
  },
  {
   "cell_type": "code",
   "execution_count": 83,
   "id": "21aa0996",
   "metadata": {},
   "outputs": [
    {
     "data": {
      "text/plain": [
       "['ctv.pkl']"
      ]
     },
     "execution_count": 83,
     "metadata": {},
     "output_type": "execute_result"
    }
   ],
   "source": [
    "joblib.dump(clf,'clf.pkl')\n",
    "joblib.dump(ctv,'ctv.pkl')"
   ]
  }
 ],
 "metadata": {
  "kernelspec": {
   "display_name": "Python 3 (ipykernel)",
   "language": "python",
   "name": "python3"
  },
  "language_info": {
   "codemirror_mode": {
    "name": "ipython",
    "version": 3
   },
   "file_extension": ".py",
   "mimetype": "text/x-python",
   "name": "python",
   "nbconvert_exporter": "python",
   "pygments_lexer": "ipython3",
   "version": "3.8.11"
  }
 },
 "nbformat": 4,
 "nbformat_minor": 5
}
