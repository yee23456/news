{
 "cells": [
  {
   "cell_type": "code",
   "execution_count": 8,
   "id": "32e84db3",
   "metadata": {},
   "outputs": [],
   "source": [
    "import joblib\n",
    "import pandas as pd\n",
    "import jieba\n",
    "df = open('C:/Users/沈睿朋/Documents/github/news/ewr.txt',encoding=('utf-8'))\n",
    "word = []\n",
    "word_text = ''\n",
    "for i in df:\n",
    "    line = i.splitlines()\n",
    "    if line == ['']:\n",
    "        word.append(word_text)\n",
    "        word_text = ''\n",
    "    elif line == ['[廣告]請繼續往下閱讀...']:\n",
    "        continue\n",
    "    elif line[0][0] == 'h' or line[0][0] == '▲' or line[0][0:2] == '記者' or line[0][0] == '▼':\n",
    "        continue\n",
    "    word_text+=i.rstrip()\n",
    "word.append(word_text)"
   ]
  },
  {
   "cell_type": "code",
   "execution_count": 12,
   "id": "a24990fe",
   "metadata": {},
   "outputs": [
    {
     "name": "stderr",
     "output_type": "stream",
     "text": [
      "C:\\ProgramData\\Anaconda3\\lib\\site-packages\\sklearn\\feature_extraction\\text.py:388: UserWarning: Your stop_words may be inconsistent with your preprocessing. Tokenizing the stop words generated tokens ['fed', 'jp', 'max', 'qe', 'vtfet'] not in stop_words.\n",
      "  warnings.warn('Your stop_words may be inconsistent with '\n"
     ]
    },
    {
     "data": {
      "text/html": [
       "<div>\n",
       "<style scoped>\n",
       "    .dataframe tbody tr th:only-of-type {\n",
       "        vertical-align: middle;\n",
       "    }\n",
       "\n",
       "    .dataframe tbody tr th {\n",
       "        vertical-align: top;\n",
       "    }\n",
       "\n",
       "    .dataframe thead th {\n",
       "        text-align: right;\n",
       "    }\n",
       "</style>\n",
       "<table border=\"1\" class=\"dataframe\">\n",
       "  <thead>\n",
       "    <tr style=\"text-align: right;\">\n",
       "      <th></th>\n",
       "      <th>file</th>\n",
       "      <th>file_Participle</th>\n",
       "      <th>test_dis</th>\n",
       "    </tr>\n",
       "  </thead>\n",
       "  <tbody>\n",
       "    <tr>\n",
       "      <th>0</th>\n",
       "      <td>美股連2天走跌，拖累台股今 (7) 日開低走低，台積電領跌，金融股撐盤，不過盤中衛福部長陳時...</td>\n",
       "      <td>美股連 2 天 走跌 ， 拖累 台股 今   ( 7 )   日開 低 走低 ， 台積 電領...</td>\n",
       "      <td>[1]</td>\n",
       "    </tr>\n",
       "    <tr>\n",
       "      <th>1</th>\n",
       "      <td>28檔上市櫃「金融股」公布配息，現金殖利率高於5%的共10檔，排名第一的康和證（6016），...</td>\n",
       "      <td>28 檔 上市 櫃 「 金融股 」 公布 配息 ， 現金殖 利率 高 於 5% 的 共 10...</td>\n",
       "      <td>[1]</td>\n",
       "    </tr>\n",
       "    <tr>\n",
       "      <th>2</th>\n",
       "      <td>威力彩頭獎連槓14期，今（7）日頭獎上看6.1億，士林夜市、飛來發彩券行業者黃偉祺接受《ET...</td>\n",
       "      <td>威力 彩頭 獎連槓 14 期 ， 今 （ 7 ） 日頭 獎上 看 6.1 億 ， 士林 夜市...</td>\n",
       "      <td>[0]</td>\n",
       "    </tr>\n",
       "    <tr>\n",
       "      <th>3</th>\n",
       "      <td>美聯準會（Fed）發布3月會議紀錄，為因應美國40年來最嚴重的通膨，每年將縮減資產負債表超過...</td>\n",
       "      <td>美聯 準會 （ Fed ） 發布 3 月會議 紀錄 ， 為 因應 美國 40 年 來 最 嚴...</td>\n",
       "      <td>[0]</td>\n",
       "    </tr>\n",
       "    <tr>\n",
       "      <th>4</th>\n",
       "      <td>晟德（4123）於今（7）日召開記者會宣布，董事會已通過合併子公司「玉晟生技投資股份有限公司...</td>\n",
       "      <td>晟 德 （ 4123 ） 於 今 （ 7 ） 日召開 記者 會 宣布 ， 董事 會 已通 過...</td>\n",
       "      <td>[1]</td>\n",
       "    </tr>\n",
       "  </tbody>\n",
       "</table>\n",
       "</div>"
      ],
      "text/plain": [
       "                                                file  \\\n",
       "0  美股連2天走跌，拖累台股今 (7) 日開低走低，台積電領跌，金融股撐盤，不過盤中衛福部長陳時...   \n",
       "1  28檔上市櫃「金融股」公布配息，現金殖利率高於5%的共10檔，排名第一的康和證（6016），...   \n",
       "2  威力彩頭獎連槓14期，今（7）日頭獎上看6.1億，士林夜市、飛來發彩券行業者黃偉祺接受《ET...   \n",
       "3  美聯準會（Fed）發布3月會議紀錄，為因應美國40年來最嚴重的通膨，每年將縮減資產負債表超過...   \n",
       "4  晟德（4123）於今（7）日召開記者會宣布，董事會已通過合併子公司「玉晟生技投資股份有限公司...   \n",
       "\n",
       "                                     file_Participle test_dis  \n",
       "0  美股連 2 天 走跌 ， 拖累 台股 今   ( 7 )   日開 低 走低 ， 台積 電領...      [1]  \n",
       "1  28 檔 上市 櫃 「 金融股 」 公布 配息 ， 現金殖 利率 高 於 5% 的 共 10...      [1]  \n",
       "2  威力 彩頭 獎連槓 14 期 ， 今 （ 7 ） 日頭 獎上 看 6.1 億 ， 士林 夜市...      [0]  \n",
       "3  美聯 準會 （ Fed ） 發布 3 月會議 紀錄 ， 為 因應 美國 40 年 來 最 嚴...      [0]  \n",
       "4  晟 德 （ 4123 ） 於 今 （ 7 ） 日召開 記者 會 宣布 ， 董事 會 已通 過...      [1]  "
      ]
     },
     "execution_count": 12,
     "metadata": {},
     "output_type": "execute_result"
    }
   ],
   "source": [
    "PATH = 'C:/Users/沈睿朋/Documents/github/news/'\n",
    "clf2 = joblib.load(PATH + 'clf.pkl')\n",
    "ctv2 = joblib.load(PATH + 'ctv.pkl')\n",
    "df = pd.DataFrame(word,columns = ['file'])\n",
    "df['file_Participle'] = df['file'].apply(lambda i:jieba.cut(i) )\n",
    "df['file_Participle'] =[' '.join(i) for i in df['file_Participle']]\n",
    "df['test_dis'] = df['file_Participle'] .apply(lambda x : clf2.predict(ctv2.transform([x])))\n",
    "df.head()"
   ]
  }
 ],
 "metadata": {
  "kernelspec": {
   "display_name": "Python 3 (ipykernel)",
   "language": "python",
   "name": "python3"
  },
  "language_info": {
   "codemirror_mode": {
    "name": "ipython",
    "version": 3
   },
   "file_extension": ".py",
   "mimetype": "text/x-python",
   "name": "python",
   "nbconvert_exporter": "python",
   "pygments_lexer": "ipython3",
   "version": "3.8.11"
  }
 },
 "nbformat": 4,
 "nbformat_minor": 5
}
